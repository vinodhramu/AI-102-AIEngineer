{
  "nbformat": 4,
  "nbformat_minor": 0,
  "metadata": {
    "colab": {
      "name": "00_TensorFlow_Fundamentals.ipynb",
      "provenance": [],
      "collapsed_sections": [],
      "authorship_tag": "ABX9TyNg43sdDeHyeBwtqe576Y5W",
      "include_colab_link": true
    },
    "kernelspec": {
      "name": "python3",
      "display_name": "Python 3"
    },
    "language_info": {
      "name": "python"
    }
  },
  "cells": [
    {
      "cell_type": "markdown",
      "metadata": {
        "id": "view-in-github",
        "colab_type": "text"
      },
      "source": [
        "<a href=\"https://colab.research.google.com/github/vinodhramu/AI-102-AIEngineer/blob/master/00_TensorFlow_Fundamentals.ipynb\" target=\"_parent\"><img src=\"https://colab.research.google.com/assets/colab-badge.svg\" alt=\"Open In Colab\"/></a>"
      ]
    },
    {
      "cell_type": "markdown",
      "source": [
        "# Fundamental TensorFlow operations\n",
        "- Introduction to Tensors\n",
        "- Getting infoirmation from tensors\n",
        "- Manipulating tensors\n",
        "- Tensors and Numpy\n",
        "- using @tf.function (a way to speed up regular python functions)\n",
        "- using GPus with TensorFlow\n",
        "- Exercise\n",
        "\n",
        "# Tensors\n",
        "- Tensor as multi dimensional numerical representation\n",
        "- It could be numbers,image,text\n"
      ],
      "metadata": {
        "id": "zwO3Qd5skMe6"
      }
    },
    {
      "cell_type": "code",
      "execution_count": 2,
      "metadata": {
        "colab": {
          "base_uri": "https://localhost:8080/"
        },
        "id": "MFxb0bkri9Ly",
        "outputId": "53d5ee3f-345e-4adc-8ff4-5cb7aa731603"
      },
      "outputs": [
        {
          "output_type": "stream",
          "name": "stdout",
          "text": [
            "2.7.0\n"
          ]
        }
      ],
      "source": [
        "import tensorflow as tf\n",
        "print(tf.__version__)"
      ]
    },
    {
      "cell_type": "markdown",
      "source": [
        "# Creating Tensor with tf.constant()\n",
        "\n",
        "We will not create tensors manually because Tensorflow has modules built in such us tf.io , tf.data which read data source and convert them into tensors.\n",
        "\n",
        "To get familiar with tensors and manipulate them we will create ourselves."
      ],
      "metadata": {
        "id": "_mjsw0KNlzC6"
      }
    },
    {
      "cell_type": "code",
      "source": [
        "# Create a scalar (rank 0 tensor)\n",
        "scalar = tf.constant(10)\n",
        "scalar"
      ],
      "metadata": {
        "colab": {
          "base_uri": "https://localhost:8080/"
        },
        "id": "JWJvI1hAjtAH",
        "outputId": "0a64685a-c876-4373-a843-d85c5aff7ef4"
      },
      "execution_count": 3,
      "outputs": [
        {
          "output_type": "execute_result",
          "data": {
            "text/plain": [
              "<tf.Tensor: shape=(), dtype=int32, numpy=10>"
            ]
          },
          "metadata": {},
          "execution_count": 3
        }
      ]
    },
    {
      "cell_type": "markdown",
      "source": [
        "A Scalar is known as rank 0 tensor as it has no dimensions\n",
        "\n",
        "Tensor can have unlimited range of dimensions"
      ],
      "metadata": {
        "id": "mF95ibzKn-jJ"
      }
    },
    {
      "cell_type": "code",
      "source": [
        "# check number of dimensions of tensor (ndim stands for number of dimensions)\n",
        "scalar.ndim "
      ],
      "metadata": {
        "colab": {
          "base_uri": "https://localhost:8080/"
        },
        "id": "4uNMjlaJoM-R",
        "outputId": "548fc5d8-c253-4a78-897d-a060c0f3634c"
      },
      "execution_count": 4,
      "outputs": [
        {
          "output_type": "execute_result",
          "data": {
            "text/plain": [
              "0"
            ]
          },
          "metadata": {},
          "execution_count": 4
        }
      ]
    },
    {
      "cell_type": "code",
      "source": [
        "# Create a Vector (more than 0 dimension)\n",
        "V = tf.constant([10,10])\n",
        "V"
      ],
      "metadata": {
        "colab": {
          "base_uri": "https://localhost:8080/"
        },
        "id": "xveIDcOhpTeK",
        "outputId": "ac7ff37c-f133-44db-9ae9-4d472f4d58cf"
      },
      "execution_count": 5,
      "outputs": [
        {
          "output_type": "execute_result",
          "data": {
            "text/plain": [
              "<tf.Tensor: shape=(2,), dtype=int32, numpy=array([10, 10], dtype=int32)>"
            ]
          },
          "metadata": {},
          "execution_count": 5
        }
      ]
    },
    {
      "cell_type": "code",
      "source": [
        "V.ndim"
      ],
      "metadata": {
        "colab": {
          "base_uri": "https://localhost:8080/"
        },
        "id": "oznpZ1jBpclX",
        "outputId": "b9629a24-ad10-4f0d-8c0d-cd8e192f884d"
      },
      "execution_count": 6,
      "outputs": [
        {
          "output_type": "execute_result",
          "data": {
            "text/plain": [
              "1"
            ]
          },
          "metadata": {},
          "execution_count": 6
        }
      ]
    },
    {
      "cell_type": "code",
      "source": [
        "# Create a matrix (more than 1 dimension)\n",
        "\n",
        "M = tf.constant([[10,7],[7,10]])\n",
        "M"
      ],
      "metadata": {
        "colab": {
          "base_uri": "https://localhost:8080/"
        },
        "id": "rfLaUjBlpf-_",
        "outputId": "56786883-8f4f-4bef-ffde-b9ed2165bba5"
      },
      "execution_count": 7,
      "outputs": [
        {
          "output_type": "execute_result",
          "data": {
            "text/plain": [
              "<tf.Tensor: shape=(2, 2), dtype=int32, numpy=\n",
              "array([[10,  7],\n",
              "       [ 7, 10]], dtype=int32)>"
            ]
          },
          "metadata": {},
          "execution_count": 7
        }
      ]
    },
    {
      "cell_type": "code",
      "source": [
        "M.ndim"
      ],
      "metadata": {
        "colab": {
          "base_uri": "https://localhost:8080/"
        },
        "id": "O-kyeL7Yq-DO",
        "outputId": "4ac79f23-5c2a-461b-c143-8d050549de69"
      },
      "execution_count": 8,
      "outputs": [
        {
          "output_type": "execute_result",
          "data": {
            "text/plain": [
              "2"
            ]
          },
          "metadata": {},
          "execution_count": 8
        }
      ]
    },
    {
      "cell_type": "markdown",
      "source": [
        "By Default TensorFlow creates with either int32 or float32 datatype"
      ],
      "metadata": {
        "id": "nJsmGDG61rxH"
      }
    },
    {
      "cell_type": "code",
      "source": [
        "# Create another matrix and define datatype\n",
        "\n",
        "M2 = tf.constant([[1.,2.],[3.,4.],[5.,6.]],dtype=tf.float16)\n",
        "M2"
      ],
      "metadata": {
        "id": "Sg4qORI5rECy",
        "colab": {
          "base_uri": "https://localhost:8080/"
        },
        "outputId": "21db5769-583f-4c67-a9a3-5f935e242b31"
      },
      "execution_count": 9,
      "outputs": [
        {
          "output_type": "execute_result",
          "data": {
            "text/plain": [
              "<tf.Tensor: shape=(3, 2), dtype=float16, numpy=\n",
              "array([[1., 2.],\n",
              "       [3., 4.],\n",
              "       [5., 6.]], dtype=float16)>"
            ]
          },
          "metadata": {},
          "execution_count": 9
        }
      ]
    },
    {
      "cell_type": "code",
      "source": [
        "M2.ndim"
      ],
      "metadata": {
        "colab": {
          "base_uri": "https://localhost:8080/"
        },
        "id": "tOMNj9QH21VY",
        "outputId": "70ab1436-15fa-4dc5-a7bc-9614d494f8c4"
      },
      "execution_count": 10,
      "outputs": [
        {
          "output_type": "execute_result",
          "data": {
            "text/plain": [
              "2"
            ]
          },
          "metadata": {},
          "execution_count": 10
        }
      ]
    },
    {
      "cell_type": "code",
      "source": [
        "M3 = tf.constant([\n",
        "                  [\n",
        "                   [1,2],[1,4]\n",
        "                  ],\n",
        "                   [\n",
        "                    [3,4],[2,5]\n",
        "                    ]\n",
        "                  ])\n",
        "M3"
      ],
      "metadata": {
        "colab": {
          "base_uri": "https://localhost:8080/"
        },
        "id": "gsAp8wtU4Cpi",
        "outputId": "370f11c3-b168-4cfe-d273-2f75551a634d"
      },
      "execution_count": 11,
      "outputs": [
        {
          "output_type": "execute_result",
          "data": {
            "text/plain": [
              "<tf.Tensor: shape=(2, 2, 2), dtype=int32, numpy=\n",
              "array([[[1, 2],\n",
              "        [1, 4]],\n",
              "\n",
              "       [[3, 4],\n",
              "        [2, 5]]], dtype=int32)>"
            ]
          },
          "metadata": {},
          "execution_count": 11
        }
      ]
    },
    {
      "cell_type": "code",
      "source": [
        "M3.ndim"
      ],
      "metadata": {
        "colab": {
          "base_uri": "https://localhost:8080/"
        },
        "id": "7WYTpOnW4vmB",
        "outputId": "8dfc642f-aa9e-4449-9b10-1390170430db"
      },
      "execution_count": 12,
      "outputs": [
        {
          "output_type": "execute_result",
          "data": {
            "text/plain": [
              "3"
            ]
          },
          "metadata": {},
          "execution_count": 12
        }
      ]
    },
    {
      "cell_type": "markdown",
      "source": [
        "This Dimension is Rank of Tensor\n",
        "Above M3 is Rank 3 Tensor."
      ],
      "metadata": {
        "id": "GZ0jwraU5Rgb"
      }
    },
    {
      "cell_type": "markdown",
      "source": [
        "# Create tensor using tf.Variable()\n",
        "\n",
        "Difference between tf.constant() and tf.Variable is \n",
        "- tensors created using **tf.constant** is *immutable* \n",
        "- tensors created using **tf.Variable** is *mutable*\n",
        "\n"
      ],
      "metadata": {
        "id": "aJQn1Vbg6A2F"
      }
    },
    {
      "cell_type": "code",
      "source": [
        "# Create the same tensor with both variable and constant\n",
        "\n",
        "changeable_tensor = tf.Variable([10,20])\n",
        "Unchangeable_tensor = tf.constant([10,20])\n",
        "\n",
        "changeable_tensor,Unchangeable_tensor"
      ],
      "metadata": {
        "colab": {
          "base_uri": "https://localhost:8080/"
        },
        "id": "vKCObFYP5_7_",
        "outputId": "958960c5-50c6-4bbb-ac9b-0cc15445f0b0"
      },
      "execution_count": 13,
      "outputs": [
        {
          "output_type": "execute_result",
          "data": {
            "text/plain": [
              "(<tf.Variable 'Variable:0' shape=(2,) dtype=int32, numpy=array([10, 20], dtype=int32)>,\n",
              " <tf.Tensor: shape=(2,), dtype=int32, numpy=array([10, 20], dtype=int32)>)"
            ]
          },
          "metadata": {},
          "execution_count": 13
        }
      ]
    },
    {
      "cell_type": "markdown",
      "source": [
        "Try changing elements in changeable tensor"
      ],
      "metadata": {
        "id": "WbpJnQYB7hIA"
      }
    },
    {
      "cell_type": "code",
      "source": [
        "changeable_tensor[0]=30"
      ],
      "metadata": {
        "colab": {
          "base_uri": "https://localhost:8080/",
          "height": 165
        },
        "id": "QLp2bqYf5HXZ",
        "outputId": "f9f645c9-a046-4435-f0e6-f2bc2eabac69"
      },
      "execution_count": 14,
      "outputs": [
        {
          "output_type": "error",
          "ename": "TypeError",
          "evalue": "ignored",
          "traceback": [
            "\u001b[0;31m---------------------------------------------------------------------------\u001b[0m",
            "\u001b[0;31mTypeError\u001b[0m                                 Traceback (most recent call last)",
            "\u001b[0;32m<ipython-input-14-21e1b6fbba08>\u001b[0m in \u001b[0;36m<module>\u001b[0;34m()\u001b[0m\n\u001b[0;32m----> 1\u001b[0;31m \u001b[0mchangeable_tensor\u001b[0m\u001b[0;34m[\u001b[0m\u001b[0;36m0\u001b[0m\u001b[0;34m]\u001b[0m\u001b[0;34m=\u001b[0m\u001b[0;36m30\u001b[0m\u001b[0;34m\u001b[0m\u001b[0;34m\u001b[0m\u001b[0m\n\u001b[0m",
            "\u001b[0;31mTypeError\u001b[0m: 'ResourceVariable' object does not support item assignment"
          ]
        }
      ]
    },
    {
      "cell_type": "markdown",
      "source": [
        "To change an element in tf.Variable() tensor requires tf.assign()"
      ],
      "metadata": {
        "id": "b4bxGzX17-X3"
      }
    },
    {
      "cell_type": "code",
      "source": [
        "changeable_tensor[0].assign(30)\n",
        "changeable_tensor"
      ],
      "metadata": {
        "colab": {
          "base_uri": "https://localhost:8080/"
        },
        "id": "RF-0ipL_7fJe",
        "outputId": "27b2abc1-778c-4e18-b9b9-b059ce28aeed"
      },
      "execution_count": 15,
      "outputs": [
        {
          "output_type": "execute_result",
          "data": {
            "text/plain": [
              "<tf.Variable 'Variable:0' shape=(2,) dtype=int32, numpy=array([30, 20], dtype=int32)>"
            ]
          },
          "metadata": {},
          "execution_count": 15
        }
      ]
    },
    {
      "cell_type": "code",
      "source": [
        "Unchangeable_tensor[0].assign(100)\n",
        "Unchangeable_tensor"
      ],
      "metadata": {
        "colab": {
          "base_uri": "https://localhost:8080/",
          "height": 304
        },
        "id": "qeTDaboV8MsX",
        "outputId": "fa42ed0c-5f85-4683-dd60-df4af5ec10ce"
      },
      "execution_count": 16,
      "outputs": [
        {
          "output_type": "error",
          "ename": "AttributeError",
          "evalue": "ignored",
          "traceback": [
            "\u001b[0;31m---------------------------------------------------------------------------\u001b[0m",
            "\u001b[0;31mAttributeError\u001b[0m                            Traceback (most recent call last)",
            "\u001b[0;32m<ipython-input-16-c9bb6d856b15>\u001b[0m in \u001b[0;36m<module>\u001b[0;34m()\u001b[0m\n\u001b[0;32m----> 1\u001b[0;31m \u001b[0mUnchangeable_tensor\u001b[0m\u001b[0;34m[\u001b[0m\u001b[0;36m0\u001b[0m\u001b[0;34m]\u001b[0m\u001b[0;34m.\u001b[0m\u001b[0massign\u001b[0m\u001b[0;34m(\u001b[0m\u001b[0;36m100\u001b[0m\u001b[0;34m)\u001b[0m\u001b[0;34m\u001b[0m\u001b[0;34m\u001b[0m\u001b[0m\n\u001b[0m\u001b[1;32m      2\u001b[0m \u001b[0mUnchangeable_tensor\u001b[0m\u001b[0;34m\u001b[0m\u001b[0;34m\u001b[0m\u001b[0m\n",
            "\u001b[0;32m/usr/local/lib/python3.7/dist-packages/tensorflow/python/framework/ops.py\u001b[0m in \u001b[0;36m__getattr__\u001b[0;34m(self, name)\u001b[0m\n\u001b[1;32m    440\u001b[0m         \u001b[0;32mfrom\u001b[0m \u001b[0mtensorflow\u001b[0m\u001b[0;34m.\u001b[0m\u001b[0mpython\u001b[0m\u001b[0;34m.\u001b[0m\u001b[0mops\u001b[0m\u001b[0;34m.\u001b[0m\u001b[0mnumpy_ops\u001b[0m \u001b[0;32mimport\u001b[0m \u001b[0mnp_config\u001b[0m\u001b[0;34m\u001b[0m\u001b[0;34m\u001b[0m\u001b[0m\n\u001b[1;32m    441\u001b[0m         np_config.enable_numpy_behavior()\"\"\".format(type(self).__name__, name))\n\u001b[0;32m--> 442\u001b[0;31m     \u001b[0mself\u001b[0m\u001b[0;34m.\u001b[0m\u001b[0m__getattribute__\u001b[0m\u001b[0;34m(\u001b[0m\u001b[0mname\u001b[0m\u001b[0;34m)\u001b[0m\u001b[0;34m\u001b[0m\u001b[0;34m\u001b[0m\u001b[0m\n\u001b[0m\u001b[1;32m    443\u001b[0m \u001b[0;34m\u001b[0m\u001b[0m\n\u001b[1;32m    444\u001b[0m   \u001b[0;34m@\u001b[0m\u001b[0mstaticmethod\u001b[0m\u001b[0;34m\u001b[0m\u001b[0;34m\u001b[0m\u001b[0m\n",
            "\u001b[0;31mAttributeError\u001b[0m: 'tensorflow.python.framework.ops.EagerTensor' object has no attribute 'assign'"
          ]
        }
      ]
    },
    {
      "cell_type": "markdown",
      "source": [
        "# Creating random tensors\n",
        "\n",
        "Random tensors are of some arbitrary size which contains random numbers.\n",
        "\n",
        "We can create random tensors by using **tf.random.Generator** class\n"
      ],
      "metadata": {
        "id": "msQq0Mea8hLs"
      }
    },
    {
      "cell_type": "code",
      "source": [
        "# Creating Random tensors with same seed\n",
        "random_tensors1 = tf.random.Generator.from_seed(30)\n",
        "random_tensors1 = random_tensors1.normal(shape=(3,3))\n",
        "\n",
        "random_tensors2 = tf.random.Generator.from_seed(30)\n",
        "random_tensors2 = random_tensors2.normal(shape=(3,3))\n",
        "\n",
        "random_tensors1,random_tensors2, random_tensors1==random_tensors2"
      ],
      "metadata": {
        "colab": {
          "base_uri": "https://localhost:8080/"
        },
        "id": "XZTl1Ddi8WBJ",
        "outputId": "cd0812d2-16a4-431f-8b75-a55147545c3f"
      },
      "execution_count": 17,
      "outputs": [
        {
          "output_type": "execute_result",
          "data": {
            "text/plain": [
              "(<tf.Tensor: shape=(3, 3), dtype=float32, numpy=\n",
              " array([[ 0.8357487 ,  0.20849545,  1.4040174 ],\n",
              "        [-2.735283  ,  1.2232229 , -1.8653691 ],\n",
              "        [ 0.00511209, -1.0493753 ,  0.7901182 ]], dtype=float32)>,\n",
              " <tf.Tensor: shape=(3, 3), dtype=float32, numpy=\n",
              " array([[ 0.8357487 ,  0.20849545,  1.4040174 ],\n",
              "        [-2.735283  ,  1.2232229 , -1.8653691 ],\n",
              "        [ 0.00511209, -1.0493753 ,  0.7901182 ]], dtype=float32)>,\n",
              " <tf.Tensor: shape=(3, 3), dtype=bool, numpy=\n",
              " array([[ True,  True,  True],\n",
              "        [ True,  True,  True],\n",
              "        [ True,  True,  True]])>)"
            ]
          },
          "metadata": {},
          "execution_count": 17
        }
      ]
    },
    {
      "cell_type": "code",
      "source": [
        "random_tensors3 = tf.random.Generator.from_seed(3)\n",
        "random_tensors3 = random_tensors3.normal(shape=(3,3))\n",
        "\n",
        "random_tensors1==random_tensors3"
      ],
      "metadata": {
        "colab": {
          "base_uri": "https://localhost:8080/"
        },
        "id": "M9jNLntj9v3T",
        "outputId": "a8a91087-14c5-4901-d697-417bb7baf372"
      },
      "execution_count": 18,
      "outputs": [
        {
          "output_type": "execute_result",
          "data": {
            "text/plain": [
              "<tf.Tensor: shape=(3, 3), dtype=bool, numpy=\n",
              "array([[False, False, False],\n",
              "       [False, False, False],\n",
              "       [False, False, False]])>"
            ]
          },
          "metadata": {},
          "execution_count": 18
        }
      ]
    },
    {
      "cell_type": "markdown",
      "source": [
        "What if we want to shuffle the order of tensors??\n",
        "\n",
        "Why we should need shuffling??\n",
        "\n",
        "If we have 100 images of Apples and Oranges. First 60 images are apple and remaing 40 or oranges. this order wil affect neural network learning. its good to shuffle the data."
      ],
      "metadata": {
        "id": "K3A2FpK-i6uC"
      }
    },
    {
      "cell_type": "code",
      "source": [
        "# Shuffle a tensor using using inbuilt method\n",
        "\n",
        "Original_data = tf.constant([[1,2],[3,4]])\n",
        "\n",
        "# Gets different results each time\n",
        "tf.random.shuffle(Original_data)"
      ],
      "metadata": {
        "id": "Tordx0W0_bQv",
        "colab": {
          "base_uri": "https://localhost:8080/"
        },
        "outputId": "80f33e98-1391-4eb3-c70e-2001e8f5ae1c"
      },
      "execution_count": 19,
      "outputs": [
        {
          "output_type": "execute_result",
          "data": {
            "text/plain": [
              "<tf.Tensor: shape=(2, 2), dtype=int32, numpy=\n",
              "array([[1, 2],\n",
              "       [3, 4]], dtype=int32)>"
            ]
          },
          "metadata": {},
          "execution_count": 19
        }
      ]
    },
    {
      "cell_type": "code",
      "source": [
        "# Shuffle in same order everytime using seed.\n",
        "tf.random.shuffle(Original_data,seed=20)"
      ],
      "metadata": {
        "colab": {
          "base_uri": "https://localhost:8080/"
        },
        "id": "VdKx1pnHj3Am",
        "outputId": "58e09b9e-e979-40d4-fc6b-dad59b298017"
      },
      "execution_count": 20,
      "outputs": [
        {
          "output_type": "execute_result",
          "data": {
            "text/plain": [
              "<tf.Tensor: shape=(2, 2), dtype=int32, numpy=\n",
              "array([[3, 4],\n",
              "       [1, 2]], dtype=int32)>"
            ]
          },
          "metadata": {},
          "execution_count": 20
        }
      ]
    },
    {
      "cell_type": "markdown",
      "source": [
        "tf.random.set_seed(40) sets global seed\n",
        "\n",
        "tf.random.shuffle(seed=40) sets Operational seed"
      ],
      "metadata": {
        "id": "HRjtVPrikbvY"
      }
    },
    {
      "cell_type": "markdown",
      "source": [
        "# Other ways to create tensors\n",
        "\n",
        "- We can use tf.ones() to create tensors of all ones\n",
        "- We can use t.zeros() to create tensors of all zeros\n",
        "\n"
      ],
      "metadata": {
        "id": "82AUmZ9IlHwV"
      }
    },
    {
      "cell_type": "code",
      "source": [
        "# Make tensors of all ones\n",
        "tf.ones(shape=(3,3))"
      ],
      "metadata": {
        "colab": {
          "base_uri": "https://localhost:8080/"
        },
        "id": "kHNZ6lcokapN",
        "outputId": "aa5a6169-ad58-4d47-b04d-42aadf9f2193"
      },
      "execution_count": 21,
      "outputs": [
        {
          "output_type": "execute_result",
          "data": {
            "text/plain": [
              "<tf.Tensor: shape=(3, 3), dtype=float32, numpy=\n",
              "array([[1., 1., 1.],\n",
              "       [1., 1., 1.],\n",
              "       [1., 1., 1.]], dtype=float32)>"
            ]
          },
          "metadata": {},
          "execution_count": 21
        }
      ]
    },
    {
      "cell_type": "code",
      "source": [
        "# Make a tensor of all zeros\n",
        "tf.zeros(shape=(3, 3))"
      ],
      "metadata": {
        "colab": {
          "base_uri": "https://localhost:8080/"
        },
        "id": "x-ybHTkzkUcv",
        "outputId": "e39545ae-3710-45f7-b060-11d842cd6e47"
      },
      "execution_count": 22,
      "outputs": [
        {
          "output_type": "execute_result",
          "data": {
            "text/plain": [
              "<tf.Tensor: shape=(3, 3), dtype=float32, numpy=\n",
              "array([[0., 0., 0.],\n",
              "       [0., 0., 0.],\n",
              "       [0., 0., 0.]], dtype=float32)>"
            ]
          },
          "metadata": {},
          "execution_count": 22
        }
      ]
    },
    {
      "cell_type": "markdown",
      "source": [
        "We can turn Numpy array to tensors\n",
        "\n",
        "But Tensors can run on GPUs\n",
        "\n",
        "- Tensors or Matrix represented by Capital Letters\n",
        "- Vectors represented by Small Letters"
      ],
      "metadata": {
        "id": "t3ocwvR2vErT"
      }
    },
    {
      "cell_type": "code",
      "source": [
        "import numpy as np\n",
        "numpy_A = np.arange(1,25,dtype=np.int32)\n",
        "A= tf.constant(numpy_A,shape=(2,3,4))\n",
        "numpy_A,A"
      ],
      "metadata": {
        "colab": {
          "base_uri": "https://localhost:8080/"
        },
        "id": "2FE2YlC_vALF",
        "outputId": "387e9f34-9dde-4cfb-9071-9bbedb3104f5"
      },
      "execution_count": 24,
      "outputs": [
        {
          "output_type": "execute_result",
          "data": {
            "text/plain": [
              "(array([ 1,  2,  3,  4,  5,  6,  7,  8,  9, 10, 11, 12, 13, 14, 15, 16, 17,\n",
              "        18, 19, 20, 21, 22, 23, 24], dtype=int32),\n",
              " <tf.Tensor: shape=(2, 3, 4), dtype=int32, numpy=\n",
              " array([[[ 1,  2,  3,  4],\n",
              "         [ 5,  6,  7,  8],\n",
              "         [ 9, 10, 11, 12]],\n",
              " \n",
              "        [[13, 14, 15, 16],\n",
              "         [17, 18, 19, 20],\n",
              "         [21, 22, 23, 24]]], dtype=int32)>)"
            ]
          },
          "metadata": {},
          "execution_count": 24
        }
      ]
    },
    {
      "cell_type": "code",
      "source": [
        "# Get various attributes of tensor\n",
        "print(\"Datatype of every element:\", A.dtype)\n",
        "print(\"Number of dimensions (rank):\", A.ndim)\n",
        "print(\"Shape of tensor:\", A.shape)\n",
        "print(\"Elements along axis 0 of tensor:\", A.shape[0])\n",
        "print(\"Elements along last axis of tensor:\", A.shape[-1])\n",
        "print(\"Total number of elements (2*3*4):\", tf.size(A).numpy()) # .numpy() converts to NumPy array"
      ],
      "metadata": {
        "colab": {
          "base_uri": "https://localhost:8080/"
        },
        "id": "VE71HCiW2b0j",
        "outputId": "46d33e7d-b62b-419f-ae95-5b0ca871e8ae"
      },
      "execution_count": 27,
      "outputs": [
        {
          "output_type": "stream",
          "name": "stdout",
          "text": [
            "Datatype of every element: <dtype: 'int32'>\n",
            "Number of dimensions (rank): 3\n",
            "Shape of tensor: (2, 3, 4)\n",
            "Elements along axis 0 of tensor: 2\n",
            "Elements along last axis of tensor: 4\n",
            "Total number of elements (2*3*4): 24\n"
          ]
        }
      ]
    },
    {
      "cell_type": "markdown",
      "source": [
        "Indexing Tensors like Python"
      ],
      "metadata": {
        "id": "P8dgJn4lGaPD"
      }
    },
    {
      "cell_type": "code",
      "source": [
        "# Get first 2 elements in each dimension\n",
        "A[:2,:2,:2]"
      ],
      "metadata": {
        "colab": {
          "base_uri": "https://localhost:8080/"
        },
        "id": "HoVK30Yl3XkC",
        "outputId": "d08a9565-46f7-4b2d-cc92-a969480b85f7"
      },
      "execution_count": 29,
      "outputs": [
        {
          "output_type": "execute_result",
          "data": {
            "text/plain": [
              "<tf.Tensor: shape=(2, 2, 2), dtype=int32, numpy=\n",
              "array([[[ 1,  2],\n",
              "        [ 5,  6]],\n",
              "\n",
              "       [[13, 14],\n",
              "        [17, 18]]], dtype=int32)>"
            ]
          },
          "metadata": {},
          "execution_count": 29
        }
      ]
    },
    {
      "cell_type": "code",
      "source": [
        ""
      ],
      "metadata": {
        "id": "ybIWrCRPGwnZ"
      },
      "execution_count": null,
      "outputs": []
    }
  ]
}